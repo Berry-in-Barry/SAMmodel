{
 "cells": [
  {
   "cell_type": "code",
   "execution_count": null,
   "id": "3fae2ed9-3f57-4bec-b773-f6528787bcc3",
   "metadata": {},
   "outputs": [],
   "source": [
    "import numpy as np\n",
    "import matplotlib.pyplot as plt\n",
    "import tifffile\n",
    "\n",
    "import os\n",
    "os.add_dll_directory(\"C://Users/amirs/anaconda3/DLLs\")\n",
    "\n",
    "from datasets import Dataset\n",
    "\n",
    "# from patchify import patchify  #Only to handle large images\n",
    "import random\n",
    "from scipy import ndimage\n",
    "\n",
    "import torch\n",
    "import torch.nn as nn\n",
    "import torch.nn.functional as F\n",
    "import torchvision \n",
    "from torch.utils.data import Dataset, DataLoader\n",
    "from imageio import imread\n",
    "from glob import glob\n",
    "import json\n",
    "\n",
    "from PIL import Image"
   ]
  }
 ],
 "metadata": {
  "kernelspec": {
   "display_name": "Python 3 (ipykernel)",
   "language": "python",
   "name": "python3"
  },
  "language_info": {
   "codemirror_mode": {
    "name": "ipython",
    "version": 3
   },
   "file_extension": ".py",
   "mimetype": "text/x-python",
   "name": "python",
   "nbconvert_exporter": "python",
   "pygments_lexer": "ipython3",
   "version": "3.11.5"
  }
 },
 "nbformat": 4,
 "nbformat_minor": 5
}
